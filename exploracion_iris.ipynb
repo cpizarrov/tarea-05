{
 "cells": [
  {
   "cell_type": "markdown",
   "id": "befe41aa",
   "metadata": {},
   "source": [
    "#### Se carga el data set 'iris-data.csv' y se observa su estructura."
   ]
  },
  {
   "cell_type": "code",
   "execution_count": 1,
   "id": "fb07eccd",
   "metadata": {},
   "outputs": [],
   "source": [
    "import numpy as np\n",
    "import pandas as pd"
   ]
  },
  {
   "cell_type": "code",
   "execution_count": 2,
   "id": "e4f5b356",
   "metadata": {},
   "outputs": [
    {
     "name": "stderr",
     "output_type": "stream",
     "text": [
      "  % Total    % Received % Xferd  Average Speed   Time    Time     Time  Current\n",
      "                                 Dload  Upload   Total   Spent    Left  Speed\n",
      "\n",
      "  0     0    0     0    0     0      0      0 --:--:-- --:--:-- --:--:--     0\n",
      "100  4757  100  4757    0     0  12831      0 --:--:-- --:--:-- --:--:-- 12856\n"
     ]
    }
   ],
   "source": [
    "!curl https://raw.githubusercontent.com/plotly/datasets/master/iris-data.csv -o iris-data.csv"
   ]
  },
  {
   "cell_type": "code",
   "execution_count": 3,
   "id": "015c3804",
   "metadata": {},
   "outputs": [],
   "source": [
    "iris_df = pd.read_csv('iris-data.csv')"
   ]
  },
  {
   "cell_type": "code",
   "execution_count": 4,
   "id": "56a2c05b",
   "metadata": {},
   "outputs": [
    {
     "name": "stdout",
     "output_type": "stream",
     "text": [
      "(150, 5)\n"
     ]
    }
   ],
   "source": [
    "print(iris_df.shape)"
   ]
  },
  {
   "cell_type": "code",
   "execution_count": 5,
   "id": "7ebfac32",
   "metadata": {},
   "outputs": [
    {
     "name": "stdout",
     "output_type": "stream",
     "text": [
      "   sepal length  sepal width  petal length  petal width        class\n",
      "0           5.1          3.5           1.4          0.2  Iris-setosa\n",
      "1           4.9          3.0           1.4          0.2  Iris-setosa\n",
      "2           4.7          3.2           1.3          0.2  Iris-setosa\n",
      "3           4.6          3.1           1.5          0.2  Iris-setosa\n",
      "4           5.0          3.6           1.4          0.2  Iris-setosa\n"
     ]
    }
   ],
   "source": [
    "print(iris_df[:5])\n",
    "# Idealmente se realiza con iris_df.head()"
   ]
  },
  {
   "cell_type": "markdown",
   "id": "8bacbbde",
   "metadata": {},
   "source": [
    "#### Se añaden lineas de código adicionales para realizar una descripción un poco más profunda del data set."
   ]
  },
  {
   "cell_type": "code",
   "execution_count": 6,
   "id": "585e90ba",
   "metadata": {},
   "outputs": [
    {
     "name": "stdout",
     "output_type": "stream",
     "text": [
      "<class 'pandas.core.frame.DataFrame'>\n",
      "RangeIndex: 150 entries, 0 to 149\n",
      "Data columns (total 5 columns):\n",
      " #   Column        Non-Null Count  Dtype  \n",
      "---  ------        --------------  -----  \n",
      " 0   sepal length  150 non-null    float64\n",
      " 1   sepal width   150 non-null    float64\n",
      " 2   petal length  150 non-null    float64\n",
      " 3   petal width   150 non-null    float64\n",
      " 4   class         150 non-null    object \n",
      "dtypes: float64(4), object(1)\n",
      "memory usage: 6.0+ KB\n"
     ]
    }
   ],
   "source": [
    "iris_df.info() "
   ]
  },
  {
   "cell_type": "code",
   "execution_count": 7,
   "id": "2ef12098",
   "metadata": {},
   "outputs": [
    {
     "data": {
      "text/plain": [
       "sepal length    0\n",
       "sepal width     0\n",
       "petal length    0\n",
       "petal width     0\n",
       "class           0\n",
       "dtype: int64"
      ]
     },
     "execution_count": 7,
     "metadata": {},
     "output_type": "execute_result"
    }
   ],
   "source": [
    "iris_df.isnull().sum()"
   ]
  },
  {
   "cell_type": "code",
   "execution_count": 8,
   "id": "eceb75f3",
   "metadata": {},
   "outputs": [
    {
     "name": "stdout",
     "output_type": "stream",
     "text": [
      "['Iris-setosa' 'Iris-versicolor' 'Iris-virginica']\n"
     ]
    }
   ],
   "source": [
    "print(iris_df['class'].unique())"
   ]
  },
  {
   "cell_type": "markdown",
   "id": "0c37da8a",
   "metadata": {},
   "source": [
    "#### Observamos que el data set se compone de cuatro variables numéricas flotantes: \"sepal length\" (longitud del sépalo), \"sepal width\" (ancho del sépalo), \"petal length\" (longitud del pétalo), \"petal width\" (ancho del pétalo); y una variable categórica de 3 categorías ('Iris setosa', 'Iris versicolor' e 'Iris virginica', que corresponden a distintos tipos de flores). \n",
    "\n",
    "#### Dentro del data set hay 150 filas o casos observados y no se observan valores nulos. "
   ]
  },
  {
   "cell_type": "markdown",
   "id": "c844f826",
   "metadata": {},
   "source": [
    "#### A continuación, observaremos los estadísticos para cada variable. "
   ]
  },
  {
   "cell_type": "code",
   "execution_count": 9,
   "id": "66d91b38",
   "metadata": {},
   "outputs": [
    {
     "name": "stdout",
     "output_type": "stream",
     "text": [
      "       sepal length  sepal width  petal length  petal width\n",
      "count    150.000000   150.000000    150.000000   150.000000\n",
      "mean       5.843333     3.054000      3.758667     1.198667\n",
      "std        0.828066     0.433594      1.764420     0.763161\n",
      "min        4.300000     2.000000      1.000000     0.100000\n",
      "25%        5.100000     2.800000      1.600000     0.300000\n",
      "50%        5.800000     3.000000      4.350000     1.300000\n",
      "75%        6.400000     3.300000      5.100000     1.800000\n",
      "max        7.900000     4.400000      6.900000     2.500000\n"
     ]
    }
   ],
   "source": [
    "print(iris_df.describe())"
   ]
  },
  {
   "cell_type": "markdown",
   "id": "f729fc38",
   "metadata": {},
   "source": [
    "#### En general, podríamos decir que el sépalo tiene una mayor longitud y ancho que los pétalos: El sépalo posee una longitud promedio de 5.84 cm y un ancho promedio de 3.1 cm, en contraste al pétalo que posee una longitud promedio de 3.76 cm y un ancho promedio de 1.2 cm. \n",
    "#### Por otro lado, el pétalo posee una mayor disperción en contraste a los sépalos, por lo que el tamaño de éstos varía mucho más por caso observado. \n",
    "\n",
    "#### Demos un paso más y observemos cómo se comportan estos valores según tipo de flor: "
   ]
  },
  {
   "cell_type": "code",
   "execution_count": 11,
   "id": "50b27d3f",
   "metadata": {},
   "outputs": [
    {
     "name": "stdout",
     "output_type": "stream",
     "text": [
      "                sepal length                  sepal width                   \\\n",
      "                       count   mean       std       count   mean       std   \n",
      "class                                                                        \n",
      "Iris-setosa               50  5.006  0.352490          50  3.418  0.381024   \n",
      "Iris-versicolor           50  5.936  0.516171          50  2.770  0.313798   \n",
      "Iris-virginica            50  6.588  0.635880          50  2.974  0.322497   \n",
      "\n",
      "                petal length                  petal width                   \n",
      "                       count   mean       std       count   mean       std  \n",
      "class                                                                       \n",
      "Iris-setosa               50  1.464  0.173511          50  0.244  0.107210  \n",
      "Iris-versicolor           50  4.260  0.469911          50  1.326  0.197753  \n",
      "Iris-virginica            50  5.552  0.551895          50  2.026  0.274650  \n"
     ]
    }
   ],
   "source": [
    "estadisticas_iris = iris_df.groupby('class').agg({\n",
    "    'sepal length': ['count', 'mean', 'std'],\n",
    "    'sepal width': ['count', 'mean', 'std'],\n",
    "    'petal length': ['count', 'mean', 'std'],\n",
    "    'petal width': ['count', 'mean', 'std']\n",
    "})\n",
    "\n",
    "print(estadisticas_iris)"
   ]
  },
  {
   "cell_type": "markdown",
   "id": "edfa80d2",
   "metadata": {},
   "source": [
    "#### De esta manera observamos en primer que existen 50 filas u observaciones para cada clase de flor. \n",
    "#### En segundo lugar, que el tipo de flor 'Iris virginica' posee la mayor longitud promedio de sépalo y pétalo, así como también el mayor ancho promedio de pétalo, por lo que sería la especie más grande de las 3. Estas características también aplican para su disperción, por lo que este tipo de flor tiene mayores variaciones de tamaño en cada caso de observación. \n",
    "#### También observamos que la especie 'Iris setosa' es la que tiene el pétalo más pequeño en promedio, mientras que su sépalo es el que tiene la menor longitud promedio (aunque el mayor ancho promedio) por lo que podría tratarse de la especie más pequeña de las 3."
   ]
  }
 ],
 "metadata": {
  "kernelspec": {
   "display_name": "proyecto_udd_cpv (Python 3.12)",
   "language": "python",
   "name": "proyecto_udd_cpv"
  },
  "language_info": {
   "codemirror_mode": {
    "name": "ipython",
    "version": 3
   },
   "file_extension": ".py",
   "mimetype": "text/x-python",
   "name": "python",
   "nbconvert_exporter": "python",
   "pygments_lexer": "ipython3",
   "version": "3.12.4"
  }
 },
 "nbformat": 4,
 "nbformat_minor": 5
}
