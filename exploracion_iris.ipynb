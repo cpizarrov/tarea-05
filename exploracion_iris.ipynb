{
 "cells": [
  {
   "cell_type": "markdown",
   "id": "a923a850",
   "metadata": {},
   "source": [
    "#### Se carga el data set 'iris-data.csv' y se observa su estructura."
   ]
  },
  {
   "cell_type": "code",
   "execution_count": 1,
   "id": "fb07eccd",
   "metadata": {},
   "outputs": [],
   "source": [
    "import numpy as np\n",
    "import pandas as pd"
   ]
  },
  {
   "cell_type": "code",
   "execution_count": 2,
   "id": "e4f5b356",
   "metadata": {},
   "outputs": [
    {
     "name": "stderr",
     "output_type": "stream",
     "text": [
      "  % Total    % Received % Xferd  Average Speed   Time    Time     Time  Current\n",
      "                                 Dload  Upload   Total   Spent    Left  Speed\n",
      "\n",
      "  0     0    0     0    0     0      0      0 --:--:-- --:--:-- --:--:--     0\n",
      "100  4757  100  4757    0     0  12616      0 --:--:-- --:--:-- --:--:-- 12651\n"
     ]
    }
   ],
   "source": [
    "!curl https://raw.githubusercontent.com/plotly/datasets/master/iris-data.csv -o iris-data.csv"
   ]
  },
  {
   "cell_type": "code",
   "execution_count": 3,
   "id": "b69a6e7b",
   "metadata": {},
   "outputs": [],
   "source": [
    "iris_df = pd.read_csv('iris-data.csv')"
   ]
  },
  {
   "cell_type": "code",
   "execution_count": 4,
   "id": "175df4be",
   "metadata": {},
   "outputs": [
    {
     "name": "stdout",
     "output_type": "stream",
     "text": [
      "(150, 5)\n"
     ]
    }
   ],
   "source": [
    "print(iris_df.shape)"
   ]
  },
  {
   "cell_type": "code",
   "execution_count": 6,
   "id": "b1eb1cff",
   "metadata": {},
   "outputs": [
    {
     "name": "stdout",
     "output_type": "stream",
     "text": [
      "   sepal length  sepal width  petal length  petal width        class\n",
      "0           5.1          3.5           1.4          0.2  Iris-setosa\n",
      "1           4.9          3.0           1.4          0.2  Iris-setosa\n",
      "2           4.7          3.2           1.3          0.2  Iris-setosa\n",
      "3           4.6          3.1           1.5          0.2  Iris-setosa\n",
      "4           5.0          3.6           1.4          0.2  Iris-setosa\n"
     ]
    }
   ],
   "source": [
    "print(iris_df[:5])\n",
    "# Idealmente se realiza con iris_df.head()"
   ]
  },
  {
   "cell_type": "markdown",
   "id": "5e1ebc78",
   "metadata": {},
   "source": [
    "#### Se añaden lineas de código adicionales para realizar una descripción un poco más profunda del data set."
   ]
  },
  {
   "cell_type": "code",
   "execution_count": 8,
   "id": "25e08e56",
   "metadata": {},
   "outputs": [
    {
     "name": "stdout",
     "output_type": "stream",
     "text": [
      "<class 'pandas.core.frame.DataFrame'>\n",
      "RangeIndex: 150 entries, 0 to 149\n",
      "Data columns (total 5 columns):\n",
      " #   Column        Non-Null Count  Dtype  \n",
      "---  ------        --------------  -----  \n",
      " 0   sepal length  150 non-null    float64\n",
      " 1   sepal width   150 non-null    float64\n",
      " 2   petal length  150 non-null    float64\n",
      " 3   petal width   150 non-null    float64\n",
      " 4   class         150 non-null    object \n",
      "dtypes: float64(4), object(1)\n",
      "memory usage: 6.0+ KB\n"
     ]
    }
   ],
   "source": [
    "iris_df.info() "
   ]
  },
  {
   "cell_type": "code",
   "execution_count": 13,
   "id": "00f8ff8d",
   "metadata": {},
   "outputs": [
    {
     "data": {
      "text/plain": [
       "sepal length    0\n",
       "sepal width     0\n",
       "petal length    0\n",
       "petal width     0\n",
       "class           0\n",
       "dtype: int64"
      ]
     },
     "execution_count": 13,
     "metadata": {},
     "output_type": "execute_result"
    }
   ],
   "source": [
    "iris_df.isnull().sum()"
   ]
  },
  {
   "cell_type": "code",
   "execution_count": 12,
   "id": "1f26510f",
   "metadata": {},
   "outputs": [
    {
     "name": "stdout",
     "output_type": "stream",
     "text": [
      "['Iris-setosa' 'Iris-versicolor' 'Iris-virginica']\n"
     ]
    }
   ],
   "source": [
    "print(iris_df['class'].unique())"
   ]
  },
  {
   "cell_type": "markdown",
   "id": "0391f67c",
   "metadata": {},
   "source": [
    "#### Observamos que el data set se compone de cuatro variables numéricas flotantes: \"sepal length\" (longitud del sépalo), \"sepal width\" (ancho del sépalo), \"petal length\" (longitud del pétalo), \"petal width\" (ancho del pétalo); y una variable categórica de 3 categorías ('Iris setosa', 'Iris versicolor' e 'Iris virginica', que corresponden a distintos tipos de flores). \n",
    "\n",
    "#### Dentro del data set hay 150 filas o casos observados y no se observan valores nulos. "
   ]
  }
 ],
 "metadata": {
  "kernelspec": {
   "display_name": "proyecto_udd_cpv (Python 3.12)",
   "language": "python",
   "name": "proyecto_udd_cpv"
  },
  "language_info": {
   "codemirror_mode": {
    "name": "ipython",
    "version": 3
   },
   "file_extension": ".py",
   "mimetype": "text/x-python",
   "name": "python",
   "nbconvert_exporter": "python",
   "pygments_lexer": "ipython3",
   "version": "3.12.4"
  }
 },
 "nbformat": 4,
 "nbformat_minor": 5
}
